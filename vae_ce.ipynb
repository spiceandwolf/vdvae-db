{
 "cells": [
  {
   "cell_type": "code",
   "execution_count": 36,
   "metadata": {},
   "outputs": [],
   "source": [
    "import torch\n",
    "import torchvision.datasets as datasets\n",
    "import torchvision.transforms as transforms\n",
    "import numpy as np\n",
    "import matplotlib.pyplot as plt\n",
    "from pythae.trainers import BaseTrainerConfig\n",
    "from pythae.pipelines.training import TrainingPipeline\n",
    "from torchmetrics.image.fid import FrechetInceptionDistance\n",
    "from tqdm import tqdm\n",
    "from torch.utils.data import DataLoader\n",
    "from sklearn.manifold import TSNE\n",
    "import os\n",
    "from pythae.models import AutoModel\n",
    "\n",
    "device = \"cuda\" if torch.cuda.is_available() else \"cpu\""
   ]
  },
  {
   "cell_type": "code",
   "execution_count": 37,
   "metadata": {},
   "outputs": [],
   "source": [
    "def get_figure_data(task,plot_figures=True):\n",
    "    assert task in ['mnist','cifar']\n",
    "    if task=='cifar':\n",
    "        transform = transforms.Compose(\n",
    "            [transforms.ToTensor(),\n",
    "            transforms.Normalize((0.5, 0.5, 0.5), (0.5, 0.5, 0.5))])\n",
    "        cifar_trainset = datasets.CIFAR10(root='../../data', download=True, transform=transform)\n",
    "        train_dataset = np.transpose(cifar_trainset.data[:-10000],(0,3,1,2))/255\n",
    "        eval_dataset = np.transpose(cifar_trainset.data[-10000:],(0,3,1,2))/255\n",
    "        all_dataset = np.transpose(cifar_trainset.data,(0,3,1,2))/255\n",
    "        print('train_dataset shape:',train_dataset.shape)\n",
    "        if plot_figures:\n",
    "            fig, axes = plt.subplots(nrows=5, ncols=5, figsize=(5, 5))\n",
    "            for i in range(5):\n",
    "                for j in range(5):\n",
    "                    axes[i][j].imshow(np.transpose(train_dataset[i*5+j],(1,2,0)))\n",
    "                    axes[i][j].axis('off')\n",
    "        return train_dataset,eval_dataset,all_dataset\n",
    "    elif task=='mnist':\n",
    "        mnist_trainset = datasets.MNIST(root='../../data', download=True, transform=None)\n",
    "        train_dataset = mnist_trainset.data[:-10000].reshape(-1, 1, 28, 28) / 255.\n",
    "        eval_dataset = mnist_trainset.data[-10000:].reshape(-1, 1, 28, 28) / 255.\n",
    "        all_dataset=mnist_trainset.data.reshape(-1, 1, 28, 28) / 255.\n",
    "        print('train_dataset shape:',train_dataset.shape)\n",
    "        if plot_figures:\n",
    "            fig, axes = plt.subplots(nrows=5, ncols=5, figsize=(5, 5))\n",
    "            for i in range(5):\n",
    "                for j in range(5):\n",
    "                    axes[i][j].imshow(train_dataset[i*5 +j].cpu().squeeze(0), cmap='gray')\n",
    "                    axes[i][j].axis('off')\n",
    "        return train_dataset,eval_dataset,all_dataset"
   ]
  },
  {
   "cell_type": "code",
   "execution_count": 38,
   "metadata": {},
   "outputs": [],
   "source": [
    "import logging\n",
    "from typing import Optional, Union\n",
    "\n",
    "from typing_extensions import Literal\n",
    "\n",
    "from pythae.data.datasets import BaseDataset\n",
    "\n",
    "logger = logging.getLogger(__name__)\n",
    "\n",
    "# make it print to the console.\n",
    "console = logging.StreamHandler()\n",
    "logger.addHandler(console)\n",
    "logger.setLevel(logging.INFO)\n",
    "\n",
    "\n",
    "class DataProcessor:\n",
    "    \"\"\"\n",
    "    This is a basic class which preprocesses the data.\n",
    "    Basically, it takes messy data, detects potential nan, bad types end convert the\n",
    "    data to a type handled by the VAE models (*i.e.* `torch.Tensor`). Moreover, if the\n",
    "    data does not have the same shape, a reshaping is applied and data is resized to the\n",
    "    **minimal shape**.\n",
    "    \"\"\"\n",
    "\n",
    "    def __init__(self):\n",
    "        pass\n",
    "\n",
    "    def process_data(\n",
    "        self, data: Union[np.ndarray, torch.Tensor], batch_size: int = 100\n",
    "    ) -> torch.Tensor:\n",
    "        \"\"\"This function detects potential check the data type, detects nan in input data and\n",
    "        preprocessed the data so it can be handled by the models.\n",
    "\n",
    "        Args:\n",
    "            data (Union[np.ndarray, torch.Tensor]): The data that need to be\n",
    "                checked. Expected:\n",
    "\n",
    "                    - | np.ndarray of shape `num_data x n_channels x [optional depth] x\n",
    "                      | [optional height] x width x ...`\n",
    "                    - | torch.Tensor of shape `num_data x n_channels x [optional depth] x\n",
    "                      | [optional height] x width x ...`\n",
    "\n",
    "            batch_size (int): The batch size used for data preprocessing\n",
    "\n",
    "        Returns:\n",
    "            clean_data (torch.tensor): The data that has been cleaned\n",
    "        \"\"\"\n",
    "\n",
    "        if isinstance(data, np.ndarray) or torch.is_tensor(data):\n",
    "            data = self._process_data_array(data, batch_size=batch_size)\n",
    "\n",
    "        else:\n",
    "            raise TypeError(\n",
    "                \"Wrong data type provided. Expected one of \"\n",
    "                \"[np.ndarray, torch.Tensor]\"\n",
    "            )\n",
    "\n",
    "        return data\n",
    "\n",
    "    @staticmethod\n",
    "    def to_dataset(data: torch.Tensor, labels: Optional[torch.Tensor] = None):\n",
    "        \"\"\"This method converts a set of ``torch.Tensor`` to a\n",
    "        :class:`~pythae.data.datasets.BaseDataset`\n",
    "\n",
    "        Args:\n",
    "            data (torch.Tensor): The set of data as a big torch.Tensor\n",
    "            labels (torch.Tensor): The targets labels as a big torch.Tensor\n",
    "\n",
    "        Returns:\n",
    "            (BaseDataset): The resulting dataset\n",
    "        \"\"\"\n",
    "\n",
    "        if labels is None:\n",
    "            labels = torch.ones(data.shape[0])\n",
    "\n",
    "        labels = DataProcessor.to_tensor(labels)\n",
    "        dataset = BaseDataset(data, labels)\n",
    "\n",
    "        return dataset\n",
    "\n",
    "    def _process_data_array(self, data: np.ndarray, batch_size: int = 100):\n",
    "\n",
    "        num_samples = data.shape[0]\n",
    "        samples_shape = data.shape\n",
    "\n",
    "        num_complete_batch = num_samples // batch_size\n",
    "        num_in_last = num_samples % batch_size\n",
    "\n",
    "        full_data = []\n",
    "\n",
    "        for i in range(num_complete_batch):\n",
    "\n",
    "            # Detect potential nan\n",
    "            if DataProcessor.has_nan(data[i * batch_size : (i + 1) * batch_size]):\n",
    "                raise ValueError(\"Nan detected in input data!\")\n",
    "\n",
    "            processed_data = DataProcessor.to_tensor(\n",
    "                data[i * batch_size : (i + 1) * batch_size]\n",
    "            )\n",
    "            full_data.append(processed_data)\n",
    "\n",
    "        if num_in_last > 0:\n",
    "            # Detect potential nan\n",
    "            if DataProcessor.has_nan(data[-num_in_last:]):\n",
    "                raise ValueError(\"Nan detected in input data!\")\n",
    "\n",
    "            processed_data = DataProcessor.to_tensor(data[-num_in_last:])\n",
    "            full_data.append(processed_data)\n",
    "\n",
    "        processed_data = torch.cat(full_data)\n",
    "\n",
    "        assert processed_data.shape == samples_shape, (data.shape, num_samples)\n",
    "\n",
    "        return processed_data\n",
    "\n",
    "    @staticmethod\n",
    "    def to_tensor(data: np.ndarray) -> torch.Tensor:\n",
    "        \"\"\"Converts numpy arrays to `torch.Tensor` format\n",
    "\n",
    "        Args:\n",
    "            data (np.ndarray): The data to be converted\n",
    "\n",
    "        Return:\n",
    "            (torch.Tensor): The transformed data\"\"\"\n",
    "\n",
    "        # check input type\n",
    "        if not torch.is_tensor(data):\n",
    "            if not isinstance(data, np.ndarray):\n",
    "                raise TypeError(\n",
    "                    \" Data must be either of type \"\n",
    "                    f\"< 'torch.Tensor' > or < 'np.ndarray' > ({type(data)} provided). \"\n",
    "                    f\" Check data\"\n",
    "                )\n",
    "\n",
    "            else:\n",
    "                try:\n",
    "                    data = torch.tensor(data).type(torch.float)\n",
    "\n",
    "                except (TypeError, RuntimeError) as e:\n",
    "                    raise TypeError(\n",
    "                        str(e.args) + \". Potential issues:\\n\"\n",
    "                        \"- input data has not the same shape in array\\n\"\n",
    "                        \"- input data with unhandable type\"\n",
    "                    ) from e\n",
    "\n",
    "        return data\n",
    "\n",
    "    @staticmethod\n",
    "    def has_nan(data: torch.Tensor) -> bool:\n",
    "        \"\"\"Detects potential nan in input data\n",
    "\n",
    "        Args:\n",
    "            data (torch.Tensor): The data to be checked\n",
    "\n",
    "        Return:\n",
    "            (bool): True if data contains :obj:`nan`\n",
    "        \"\"\"\n",
    "\n",
    "        if (data != data).sum() > 0:\n",
    "            return True\n",
    "        else:\n",
    "            return False"
   ]
  },
  {
   "cell_type": "code",
   "execution_count": 39,
   "metadata": {},
   "outputs": [],
   "source": [
    "def get_figure_model(model_name,task):\n",
    "    assert model_name in ['vae','rae_gp']\n",
    "    assert task in ['mnist','cifar']\n",
    "    if task=='mnist':\n",
    "        input_dim=(1,28,28)\n",
    "        latent_dim=16\n",
    "        if model_name=='vae':\n",
    "            from pythae.models import VAE, VAEConfig\n",
    "            from pythae.models.nn.benchmarks.mnist import Encoder_ResNet_VAE_MNIST, Decoder_ResNet_AE_MNIST\n",
    "            model_config = VAEConfig(\n",
    "                input_dim=input_dim,\n",
    "                latent_dim=latent_dim\n",
    "            )\n",
    "            model = VAE(\n",
    "                model_config=model_config,\n",
    "                encoder=Encoder_ResNet_VAE_MNIST(model_config), \n",
    "                decoder=Decoder_ResNet_AE_MNIST(model_config) \n",
    "            )\n",
    "        elif model_name=='rae_gp':\n",
    "            from pythae.models import RAE_GP, RAE_GP_Config\n",
    "            from pythae.models.nn.benchmarks.mnist import Encoder_ResNet_AE_MNIST, Decoder_ResNet_AE_MNIST\n",
    "            model_config = RAE_GP_Config(\n",
    "                    input_dim=input_dim,\n",
    "                    latent_dim=latent_dim, # mnist 16\n",
    "                    embedding_weight=1e-2,\n",
    "                    reg_weight=1e-4\n",
    "                )\n",
    "            model = RAE_GP(\n",
    "                model_config=model_config,\n",
    "                encoder=Encoder_ResNet_AE_MNIST(model_config), \n",
    "                decoder=Decoder_ResNet_AE_MNIST(model_config) \n",
    "            )\n",
    "    elif task=='cifar':\n",
    "        input_dim=(3,32,32)\n",
    "        latent_dim=128\n",
    "        if model_name=='vae':\n",
    "            from pythae.models import VAE, VAEConfig\n",
    "            from pythae.models.nn.benchmarks.cifar import Encoder_ResNet_VAE_CIFAR, Decoder_ResNet_AE_CIFAR\n",
    "            model_config = VAEConfig(\n",
    "                input_dim=input_dim,\n",
    "                latent_dim=latent_dim\n",
    "            )\n",
    "            model = VAE(\n",
    "                model_config=model_config,\n",
    "                encoder=Encoder_ResNet_VAE_CIFAR(model_config), \n",
    "                decoder=Decoder_ResNet_AE_CIFAR(model_config) \n",
    "            )\n",
    "        elif model_name=='rae_gp':\n",
    "            from pythae.models import RAE_GP, RAE_GP_Config\n",
    "            from pythae.models.nn.benchmarks.cifar import Encoder_ResNet_AE_CIFAR, Decoder_ResNet_AE_CIFAR\n",
    "            model_config = RAE_GP_Config(\n",
    "                    input_dim=input_dim,\n",
    "                    latent_dim=latent_dim, # mnist 16\n",
    "                    embedding_weight=1e-2,\n",
    "                    reg_weight=1e-4\n",
    "                )\n",
    "            model = RAE_GP(\n",
    "                model_config=model_config,\n",
    "                encoder=Encoder_ResNet_AE_CIFAR(model_config), \n",
    "                decoder=Decoder_ResNet_AE_CIFAR(model_config) \n",
    "            )\n",
    "    return model"
   ]
  },
  {
   "cell_type": "markdown",
   "metadata": {},
   "source": [
    "training VAE"
   ]
  },
  {
   "cell_type": "code",
   "execution_count": null,
   "metadata": {},
   "outputs": [],
   "source": [
    "from pythae.trainers import BaseTrainerConfig\n",
    "from pythae.pipelines.training import TrainingPipeline\n",
    "model_name='rae_gp'\n",
    "task='mnist'\n",
    "output_dir='my_model/{}/{}/'.format(task,model_name)\n",
    "config= BaseTrainerConfig(\n",
    "    output_dir=output_dir,\n",
    "    learning_rate=1e-4,\n",
    "    batch_size=4096,\n",
    "    num_epochs=100, # Change this to train the model a bit more\n",
    ")\n",
    "\n",
    "train_dataset,eval_dataset,all_dataset=get_figure_data(task)\n",
    "model=get_figure_model(model_name,task)\n",
    "\n",
    "pipeline = TrainingPipeline(\n",
    "    training_config=config,\n",
    "    model=model\n",
    ")\n",
    "pipeline(\n",
    "    train_data=train_dataset,\n",
    "    eval_data=eval_dataset\n",
    ")"
   ]
  },
  {
   "cell_type": "code",
   "execution_count": 40,
   "metadata": {},
   "outputs": [],
   "source": [
    "fid=FrechetInceptionDistance(feature=2048).to(device)\n",
    "fid.eval()\n",
    "\n",
    "def evaluate(pred, target):\n",
    "    pred=pred.to(device)\n",
    "    target=target.to(device)\n",
    "    print('pred shape: ',pred.shape)\n",
    "    print('target shape: ',target.shape)\n",
    "    with  torch.no_grad():\n",
    "        metric = {}\n",
    "        batch_size = 512\n",
    "        imgs_dist1 = (pred.mul(255).add(0.5).clamp(0, 255)).type(torch.uint8)\n",
    "        imgs_dist2 = (target.mul(255).add(0.5).clamp(0, 255)).type(torch.uint8)\n",
    "        if imgs_dist1.shape[1] == 1: \n",
    "            imgs_dist1 = imgs_dist1.repeat(1, 3, 1, 1)\n",
    "        if imgs_dist2.shape[1] == 1:\n",
    "            imgs_dist2 = imgs_dist2.repeat(1, 3, 1, 1)\n",
    "        # fid.reset()\n",
    "        for idx in tqdm(range(0, len(pred), batch_size)):\n",
    "            fid.update(imgs_dist1[idx:idx+batch_size], real=False)\n",
    "            fid.update(imgs_dist2[idx:idx+batch_size], real=True)\n",
    "        metric[\"FID\"] = fid.compute()\n",
    "        print('FID : {}'.format(metric[\"FID\"].cpu().item()))\n",
    "        \n",
    "def plot_figures(images,output_dir=None,file_name=None):\n",
    "    fig, axes = plt.subplots(nrows=5, ncols=5, figsize=(2, 2))\n",
    "    for i in range(5):\n",
    "        for j in range(5):\n",
    "            if images.shape[1]==1:\n",
    "                axes[i][j].imshow(images[i*5+j].cpu().squeeze(0),cmap='gray')\n",
    "            else:\n",
    "                axes[i][j].imshow(np.transpose(images[i*5+j].cpu(),(1,2,0)))\n",
    "            axes[i][j].axis('off')\n",
    "    plt.tight_layout(pad=0.)\n",
    "    if output_dir is not None:\n",
    "        fig.savefig(os.path.join(output_dir,file_name))\n",
    "        \n",
    "def get_sampler(sampler,model,train_dataset=None):\n",
    "    assert sampler in ['normal','gmm']\n",
    "    if sampler=='normal':\n",
    "        from pythae.samplers import NormalSampler\n",
    "        normal_samper = NormalSampler(model=model)\n",
    "        return normal_samper\n",
    "    elif sampler=='gmm':\n",
    "        assert train_dataset is not None\n",
    "        from pythae.samplers import GaussianMixtureSampler, GaussianMixtureSamplerConfig,NormalSampler\n",
    "        gmm_sampler_config = GaussianMixtureSamplerConfig(n_components=30)\n",
    "        gmm_sampler = GaussianMixtureSampler(sampler_config=gmm_sampler_config,model=model)\n",
    "        print('fitting gmm sampler, this process could take several mins')\n",
    "        gmm_sampler.fit(train_dataset)\n",
    "        return gmm_sampler"
   ]
  },
  {
   "cell_type": "markdown",
   "metadata": {},
   "source": [
    "NCP_VAE"
   ]
  },
  {
   "cell_type": "code",
   "execution_count": 41,
   "metadata": {},
   "outputs": [],
   "source": [
    "import torch\n",
    "import torch.nn as nn\n",
    "\n",
    "class SE_Block(nn.Module):\n",
    "    def __init__(self, c, r=16):\n",
    "        super().__init__()\n",
    "        self.squeeze = nn.AdaptiveAvgPool2d(1)\n",
    "        self.excitation = nn.Sequential(\n",
    "            nn.Linear(c, c // r, bias=False),\n",
    "            nn.ReLU(inplace=True),\n",
    "            nn.Linear(c // r, c, bias=False),\n",
    "            nn.Sigmoid()\n",
    "        )\n",
    "\n",
    "    def forward(self, x):\n",
    "        bs, c, _, _ = x.shape\n",
    "        y = self.squeeze(x).view(bs, c)\n",
    "        y = self.excitation(y).view(bs, c, 1, 1)\n",
    "        return x * y.expand_as(x)\n",
    "    \n",
    "class ResidualBlockA(nn.Module):\n",
    "    def __init__(self, in_channels, out_channels):\n",
    "        super(ResidualBlockA, self).__init__()\n",
    "        assert out_channels==in_channels \n",
    "        self.conv1 = nn.Sequential(\n",
    "                        nn.BatchNorm2d(in_channels),\n",
    "                        nn.SiLU(),\n",
    "                        nn.Conv2d(in_channels, out_channels, kernel_size = 3, stride = 1, padding = 1))\n",
    "        self.conv2 = nn.Sequential(\n",
    "                        nn.BatchNorm2d(out_channels),\n",
    "                        nn.SiLU(),\n",
    "                        nn.Conv2d(out_channels, out_channels, kernel_size = 3, stride = 1, padding = 1),\n",
    "                        SE_Block(out_channels))   \n",
    "        self.out_channels = out_channels\n",
    "        self.sigmoid=nn.Sigmoid()\n",
    "    def forward(self, x):\n",
    "        residual = x\n",
    "        out = self.conv1(x)\n",
    "        out = self.conv2(out)\n",
    "        out += residual\n",
    "        return out\n",
    "\n",
    "class ResidualBlockB(nn.Module):\n",
    "    def __init__(self, in_channels, out_channels):\n",
    "        super(ResidualBlockB, self).__init__()\n",
    "        assert out_channels==2*in_channels\n",
    "        self.conv1 = nn.Sequential(\n",
    "                        nn.BatchNorm2d(in_channels),\n",
    "                        nn.SiLU(),\n",
    "                        nn.Conv2d(in_channels, out_channels, kernel_size = 3, stride = 2, padding = 1))\n",
    "        self.conv2 = nn.Sequential(\n",
    "                        nn.BatchNorm2d(out_channels),\n",
    "                        nn.SiLU(),\n",
    "                        nn.Conv2d(out_channels, out_channels, kernel_size = 3, stride = 1, padding = 1),\n",
    "                        SE_Block(out_channels))\n",
    "        self.factorized_reduction=nn.Conv2d(in_channels,out_channels,kernel_size=1,stride=2,padding=0)\n",
    "        self.out_channels = out_channels\n",
    "        self.swish=SE_Block(in_channels)\n",
    "    def forward(self, x):\n",
    "        # print('residualB')\n",
    "        # print('x shape',x.shape)\n",
    "        residual = self.swish(x)\n",
    "        residual=self.factorized_reduction(residual)\n",
    "        out = self.conv1(x)\n",
    "        out = self.conv2(out)\n",
    "        out += residual\n",
    "        # print('out shape',out.shape)\n",
    "        return out\n",
    "\n",
    "class Binary_Classifier(nn.Module):\n",
    "    def __init__(self, blockA, blockB, inchannel):\n",
    "        super(Binary_Classifier, self).__init__()\n",
    "        self.inplanes = inchannel\n",
    "        # self.linear1=nn.Linear(16,self.inplanes*16*16)\n",
    "        # self.conv1 = nn.Sequential(\n",
    "        #                 nn.ConvTranspose2d(self.inplanes, self.inplanes, 3, 2, padding=1),\n",
    "        #                 nn.ReLU())\n",
    "        self.conv1 = nn.Sequential(\n",
    "                        nn.Conv2d(self.inplanes, self.inplanes, kernel_size=3, stride=1, padding=1),\n",
    "                        nn.ReLU())\n",
    "        self.layer0 = self._make_layer(blockA, self.inplanes, self.inplanes, 3)\n",
    "        self.layer1 = self._make_layer(blockB, self.inplanes, self.inplanes * 2, 1)\n",
    "        self.layer2 = self._make_layer(blockA, self.inplanes * 2, self.inplanes * 2, 3)\n",
    "        self.layer3 = self._make_layer(blockB, self.inplanes * 2, self.inplanes * 4,1)\n",
    "        self.avgpool = nn.AdaptiveAvgPool2d(1)\n",
    "        self.fc = nn.Linear(self.inplanes * 4, 1)\n",
    "        self.sigmoid=nn.Sigmoid()\n",
    "        \n",
    "    def _make_layer(self, block, in_channels,out_channels, blocks):\n",
    "        layers = []\n",
    "        for i in range(blocks):\n",
    "            layers.append(block(in_channels, out_channels))\n",
    "        return nn.Sequential(*layers)\n",
    "    \n",
    "    \n",
    "    def forward(self, x):\n",
    "        # x=self.linear1(x)\n",
    "        # x=x.reshape(x.shape[0],self.inplanes,16,16)\n",
    "\n",
    "        x = self.conv1(x)\n",
    "        # print(x.shape)\n",
    "        x = self.layer0(x)\n",
    "        # print(x.shape)\n",
    "        x = self.layer1(x)\n",
    "        # print('layer1 out',x.shape)\n",
    "        x = self.layer2(x)\n",
    "        x = self.layer3(x)\n",
    "\n",
    "        x = self.avgpool(x)\n",
    "        x = x.view(x.size(0), -1)\n",
    "        x = self.fc(x)\n",
    "        x = self.sigmoid(x)\n",
    "        return x\n",
    "        \n",
    "class NCP_VAE(nn.Module):\n",
    "    def __init__(self,sampler,bin_classifier):\n",
    "        super(NCP_VAE, self).__init__()\n",
    "        self.sampler=sampler\n",
    "        self.bin_classifier=bin_classifier\n",
    "        self.fid=FrechetInceptionDistance(feature=2048).to(device)\n",
    "        self.fid.eval()\n",
    "        self.bin_classifier.eval()\n",
    "        self.device=\"cuda\" if torch.cuda.is_available() else \"cpu\"\n",
    "\n",
    "    @torch.no_grad()\n",
    "    def get_reweight(self,z):\n",
    "        x=self.sampler.model.decoder(z)[\"reconstruction\"].detach()\n",
    "        D=self.bin_classifier(x)\n",
    "        r=D/(1-D)\n",
    "        return r\n",
    "\n",
    "    @torch.no_grad()\n",
    "    def sample_from_p(self,num_samples):\n",
    "        \"\"\"sample from gaussian mixture\"\"\"\n",
    "        try:\n",
    "            z=torch.tensor(self.sampler.gmm.sample(num_samples)[0]).type(torch.float).to(self.device)\n",
    "        except Exception:\n",
    "            z=torch.randn(num_samples, self.sampler.model.latent_dim).to(self.device)\n",
    "        return z\n",
    "\n",
    "    @torch.no_grad()\n",
    "    def sample_from_q(self,input):\n",
    "        z=self.sampler.model(input).z.detach().to(device)\n",
    "        return z\n",
    "\n",
    "    @torch.no_grad()\n",
    "    def sample_from_ncp(self,num_samples):\n",
    "        z=self.sample_from_p(num_samples)\n",
    "        r=self.get_reweight(z).reshape(-1,)\n",
    "        r/=r.sum()\n",
    "        idx=torch.multinomial(r,num_samples)\n",
    "        return z[idx]\n",
    "\n",
    "    @torch.no_grad()\n",
    "    def sample(self,num_samples):\n",
    "        z=self.sample_from_ncp(num_samples)\n",
    "        return self.sampler.model.decoder(z)[\"reconstruction\"].detach()\n",
    "\n",
    "    @torch.no_grad()\n",
    "    def evaluate(self,real_set,num_samples):\n",
    "        target=real_set[:num_samples]\n",
    "        pred=self.sample(num_samples)\n",
    "        metric = {}\n",
    "        batch_size = 16\n",
    "        imgs_dist1 = (pred.mul(255).add(0.5).clamp(0, 255)).type(torch.uint8).to(self.device)\n",
    "        imgs_dist2 = (target.mul(255).add(0.5).clamp(0, 255)).type(torch.uint8).to(self.device)\n",
    "        if imgs_dist1.shape[1] == 1: \n",
    "            imgs_dist1 = imgs_dist1.repeat(1, 3, 1, 1)\n",
    "        if imgs_dist2.shape[1] == 1:\n",
    "            imgs_dist2 = imgs_dist2.repeat(1, 3, 1, 1)\n",
    "        # fid.reset()\n",
    "        for idx in tqdm(range(0, len(pred), batch_size)):\n",
    "            fid.update(imgs_dist1[idx:idx+batch_size], real=False)\n",
    "            fid.update(imgs_dist2[idx:idx+batch_size], real=True)\n",
    "        # print(\"fake_samples: \", fid.fake_features_num_samples)\n",
    "        # print(\"real_samples: \", fid.real_features_num_samples)\n",
    "        metric[\"FID\"] = fid.compute()\n",
    "        return metric"
   ]
  },
  {
   "cell_type": "code",
   "execution_count": 42,
   "metadata": {},
   "outputs": [
    {
     "name": "stdout",
     "output_type": "stream",
     "text": [
      "train_dataset shape: torch.Size([50000, 1, 28, 28])\n",
      "fitting gmm sampler, this process could take several mins\n",
      "train_dataset shape: torch.Size([50000, 1, 28, 28])\n"
     ]
    },
    {
     "data": {
      "image/png": "[encoded data removed]",
      "text/plain": [
       "<Figure size 500x500 with 25 Axes>"
      ]
     },
     "metadata": {},
     "output_type": "display_data"
    },
    {
     "data": {
      "image/png": "[encoded data removed]",
      "text/plain": [
       "<Figure size 500x500 with 25 Axes>"
      ]
     },
     "metadata": {},
     "output_type": "display_data"
    }
   ],
   "source": [
    "model_name='rae_gp'\n",
    "task='mnist'\n",
    "output_dir='my_model/{}/{}/'.format(task,model_name)\n",
    "last_training = sorted(os.listdir(output_dir))[-1]\n",
    "output_dir=os.path.join(output_dir, last_training, 'final_model')\n",
    "trained_model = AutoModel.load_from_folder(output_dir)\n",
    "train_dataset,eval_dataset,all_dataset=get_figure_data(task)\n",
    "sampler_gmm=get_sampler('gmm',trained_model,train_dataset)\n",
    "\n",
    "train_dataset,eval_dataset,all_dataset=get_figure_data(task)\n",
    "data_processor = DataProcessor()\n",
    "train_data_processed = data_processor.process_data(train_dataset).to(device)\n",
    "train_dataset_processed = data_processor.to_dataset(train_data_processed)\n",
    "train_loader = DataLoader(dataset=train_dataset_processed, batch_size=1024, shuffle=False)"
   ]
  },
  {
   "cell_type": "code",
   "execution_count": 43,
   "metadata": {},
   "outputs": [],
   "source": [
    "def train_eval_ncp(sampler,data_loader,epochs=10,bs=1024,lr=0.001):\n",
    "    binary_classifier=Binary_Classifier(ResidualBlockA,ResidualBlockB,3 if task=='cifar' else 1).to(device)\n",
    "    optimizer=torch.optim.Adam(binary_classifier.parameters(),lr=lr)\n",
    "    criterion=nn.BCELoss()\n",
    "    for epoch in range(epochs):\n",
    "        acc=[]\n",
    "        losses=[]\n",
    "        for batch in data_loader:\n",
    "            num_samples=len(batch['data'])\n",
    "            q=sampler.model(batch).recon_x\n",
    "            # p_=torch.tensor(gmm_sampler.gmm.sample(num_samples)[0]).type(torch.float).to(device)\n",
    "            p=sampler.sample(num_samples)\n",
    "            input=torch.cat((q,p),dim=0)\n",
    "            labels=torch.cat((torch.ones(num_samples),torch.zeros(num_samples))).to(device)\n",
    "            out=binary_classifier(input).squeeze()\n",
    "            loss=criterion(out,labels) \n",
    "            acc.append(np.mean(np.array(out.cpu()>0.5)==np.array(labels.cpu())))\n",
    "            optimizer.zero_grad()\n",
    "            loss.backward()\n",
    "            losses.append(loss.cpu().item())\n",
    "            optimizer.step()\n",
    "        print('Eopoch :{} | Acc : {:.3f} | Loss : {:.3f} '.format(epoch,np.mean(acc),np.mean(losses)))\n",
    "\n",
    "    ncp_vae=NCP_VAE(sampler,binary_classifier)\n",
    "    fid_scores=[]\n",
    "    # print('acc: ',np.mean(acc))\n",
    "    print(\"Evaluation ncp_vae\")\n",
    "    for i in range(1):\n",
    "        fid_score=ncp_vae.evaluate(torch.tensor(all_dataset),int(0.1 * len(all_dataset)))['FID'].cpu().item()\n",
    "        fid_scores.append(fid_score)\n",
    "    print('FID : {}, avg: {:.3F}'.format(fid_scores,np.mean(fid_scores)))\n",
    "    return ncp_vae"
   ]
  },
  {
   "cell_type": "code",
   "execution_count": 44,
   "metadata": {},
   "outputs": [
    {
     "name": "stderr",
     "output_type": "stream",
     "text": [
      "/home/user1/anaconda3/envs/vdvae/lib/python3.11/site-packages/torch/nn/init.py:412: UserWarning: Initializing zero-element tensors is a no-op\n",
      "  warnings.warn(\"Initializing zero-element tensors is a no-op\")\n"
     ]
    },
    {
     "name": "stdout",
     "output_type": "stream",
     "text": [
      "Eopoch :0 | Acc : 0.574 | Loss : 0.677 \n",
      "Eopoch :1 | Acc : 0.614 | Loss : 0.661 \n",
      "Eopoch :2 | Acc : 0.621 | Loss : 0.656 \n",
      "Eopoch :3 | Acc : 0.623 | Loss : 0.653 \n",
      "Eopoch :4 | Acc : 0.624 | Loss : 0.653 \n",
      "Eopoch :5 | Acc : 0.630 | Loss : 0.648 \n",
      "Eopoch :6 | Acc : 0.628 | Loss : 0.648 \n",
      "Eopoch :7 | Acc : 0.631 | Loss : 0.647 \n",
      "Eopoch :8 | Acc : 0.630 | Loss : 0.646 \n",
      "Eopoch :9 | Acc : 0.633 | Loss : 0.644 \n",
      "Eopoch :10 | Acc : 0.631 | Loss : 0.644 \n",
      "Eopoch :11 | Acc : 0.634 | Loss : 0.643 \n",
      "Eopoch :12 | Acc : 0.635 | Loss : 0.642 \n",
      "Eopoch :13 | Acc : 0.635 | Loss : 0.641 \n",
      "Eopoch :14 | Acc : 0.635 | Loss : 0.641 \n",
      "Eopoch :15 | Acc : 0.634 | Loss : 0.643 \n",
      "Eopoch :16 | Acc : 0.636 | Loss : 0.641 \n",
      "Eopoch :17 | Acc : 0.635 | Loss : 0.640 \n",
      "Eopoch :18 | Acc : 0.635 | Loss : 0.640 \n",
      "Eopoch :19 | Acc : 0.638 | Loss : 0.637 \n",
      "Eopoch :20 | Acc : 0.637 | Loss : 0.640 \n",
      "Eopoch :21 | Acc : 0.638 | Loss : 0.637 \n",
      "Eopoch :22 | Acc : 0.640 | Loss : 0.636 \n",
      "Eopoch :23 | Acc : 0.640 | Loss : 0.636 \n",
      "Eopoch :24 | Acc : 0.639 | Loss : 0.636 \n",
      "Eopoch :25 | Acc : 0.639 | Loss : 0.636 \n",
      "Eopoch :26 | Acc : 0.640 | Loss : 0.635 \n",
      "Eopoch :27 | Acc : 0.641 | Loss : 0.635 \n",
      "Eopoch :28 | Acc : 0.639 | Loss : 0.636 \n",
      "Eopoch :29 | Acc : 0.641 | Loss : 0.635 \n",
      "Eopoch :30 | Acc : 0.640 | Loss : 0.635 \n",
      "Eopoch :31 | Acc : 0.641 | Loss : 0.634 \n",
      "Eopoch :32 | Acc : 0.641 | Loss : 0.634 \n",
      "Eopoch :33 | Acc : 0.642 | Loss : 0.634 \n",
      "Eopoch :34 | Acc : 0.641 | Loss : 0.633 \n",
      "Eopoch :35 | Acc : 0.644 | Loss : 0.632 \n",
      "Eopoch :36 | Acc : 0.643 | Loss : 0.633 \n",
      "Eopoch :37 | Acc : 0.642 | Loss : 0.633 \n",
      "Eopoch :38 | Acc : 0.644 | Loss : 0.631 \n",
      "Eopoch :39 | Acc : 0.643 | Loss : 0.632 \n",
      "Eopoch :40 | Acc : 0.642 | Loss : 0.633 \n",
      "Eopoch :41 | Acc : 0.643 | Loss : 0.631 \n",
      "Eopoch :42 | Acc : 0.644 | Loss : 0.631 \n",
      "Eopoch :43 | Acc : 0.643 | Loss : 0.632 \n",
      "Eopoch :44 | Acc : 0.646 | Loss : 0.630 \n",
      "Eopoch :45 | Acc : 0.644 | Loss : 0.631 \n",
      "Eopoch :46 | Acc : 0.646 | Loss : 0.629 \n",
      "Eopoch :47 | Acc : 0.644 | Loss : 0.630 \n",
      "Eopoch :48 | Acc : 0.646 | Loss : 0.628 \n",
      "Eopoch :49 | Acc : 0.643 | Loss : 0.632 \n",
      "Evaluation ncp_vae\n"
     ]
    },
    {
     "name": "stderr",
     "output_type": "stream",
     "text": [
      "/tmp/ipykernel_2213536/3198106306.py:29: UserWarning: To copy construct from a tensor, it is recommended to use sourceTensor.clone().detach() or sourceTensor.clone().detach().requires_grad_(True), rather than torch.tensor(sourceTensor).\n",
      "  fid_score=ncp_vae.evaluate(torch.tensor(all_dataset),int(0.1 * len(all_dataset)))['FID'].cpu().item()\n",
      "100%|██████████| 1500/1500 [00:29<00:00, 50.96it/s]\n"
     ]
    },
    {
     "name": "stdout",
     "output_type": "stream",
     "text": [
      "FID : [14.319608688354492], avg: 14.320\n"
     ]
    },
    {
     "data": {
      "image/png": "[encoded data removed]",
      "text/plain": [
       "<Figure size 200x200 with 25 Axes>"
      ]
     },
     "metadata": {},
     "output_type": "display_data"
    }
   ],
   "source": [
    "ncp_vae_sampler_gmm=train_eval_ncp(sampler_gmm,train_loader,50,lr=0.01)\n",
    "\n",
    "plot_figures(ncp_vae_sampler_gmm.sample(25),output_dir,'ncp_rae_gmm_output')"
   ]
  },
  {
   "cell_type": "markdown",
   "metadata": {},
   "source": [
    "test"
   ]
  },
  {
   "cell_type": "markdown",
   "metadata": {},
   "source": [
    "POWER Dataset Test"
   ]
  },
  {
   "cell_type": "code",
   "execution_count": 1,
   "metadata": {},
   "outputs": [],
   "source": [
    "import copy\n",
    "import torch\n",
    "from my_utils import plot_hist_marginals\n",
    "from pythae.data.datasets import DatasetOutput, BaseDataset\n",
    "\n",
    "class TableDataset(torch.utils.data.Dataset):\n",
    "    \"\"\"Wraps a Table and yields each row to use in pythae.\"\"\"\n",
    "    \n",
    "    def __init__(self, data):\n",
    "        '''\n",
    "        Args:\n",
    "            data: dataframe.\n",
    "        '''\n",
    "        super(TableDataset, self).__init__()\n",
    "        self.data = copy.deepcopy(data)\n",
    "        self.tuples = torch.as_tensor(self.data.values.reshape(-1, 1, self.data.shape[1])).float()\n",
    "        \n",
    "    def size(self):\n",
    "        return len(self.tuples)\n",
    "\n",
    "    def __len__(self):\n",
    "        return len(self.tuples)\n",
    "\n",
    "    def __getitem__(self, idx):\n",
    "        X = self.tuples[idx]\n",
    "        return DatasetOutput(\n",
    "            data=X\n",
    "        )\n",
    "    \n",
    "    def show_histograms(self, split):\n",
    "\n",
    "        data_split = getattr(self, split, None)\n",
    "        if data_split is None:\n",
    "            raise ValueError('Invalid data split')\n",
    "\n",
    "        plot_hist_marginals(data_split.x)\n",
    "        plt.show()\n",
    "        \n",
    "    def minmax_normalized(self):\n",
    "        def normalize(x):\n",
    "            return (x - x.min()) / (x.max() - x.min())\n",
    "        self.data = self.data.apply(normalize)\n",
    "    \n",
    "    def spilt_train_valid(self, valid_rate):\n",
    "        N_valid = int(valid_rate * self.data.shape[0])\n",
    "        data_valid = self.data[-N_valid:]\n",
    "        data = self.data[0:-N_valid]\n",
    "        \n",
    "        return data, data_valid    "
   ]
  },
  {
   "cell_type": "code",
   "execution_count": 2,
   "metadata": {},
   "outputs": [
    {
     "name": "stdout",
     "output_type": "stream",
     "text": [
      "time: Thu Jul 25 00:26:21 2024, message: training model power_test on power\n"
     ]
    }
   ],
   "source": [
    "from data_tabular import CsvTable, power\n",
    "from train_helpers_tabular import set_up_hyperparams\n",
    "\n",
    "H, logprint = set_up_hyperparams()"
   ]
  },
  {
   "cell_type": "code",
   "execution_count": 3,
   "metadata": {},
   "outputs": [],
   "source": [
    "original_data = power(H)\n",
    "# print(f'{original_data.data[0:1]}')"
   ]
  },
  {
   "cell_type": "code",
   "execution_count": 4,
   "metadata": {},
   "outputs": [],
   "source": [
    "original_dataset = TableDataset(\n",
    "    data=original_data.data\n",
    ")\n",
    "original_dataset.minmax_normalized()\n",
    "train_data, valid_data = original_dataset.spilt_train_valid(0.1)\n",
    "\n",
    "train_dataset = TableDataset(\n",
    "    data=train_data\n",
    ")\n",
    "\n",
    "eval_dataset = TableDataset(\n",
    "    data=valid_data\n",
    ")"
   ]
  },
  {
   "cell_type": "code",
   "execution_count": 5,
   "metadata": {},
   "outputs": [
    {
     "data": {
      "text/plain": [
       "tensor([[0.0223, 0.0532, 0.2798, 0.0249, 0.0000, 0.0000, 0.0323]])"
      ]
     },
     "execution_count": 5,
     "metadata": {},
     "output_type": "execute_result"
    }
   ],
   "source": [
    "train_dataset[0]['data']"
   ]
  },
  {
   "cell_type": "code",
   "execution_count": 5,
   "metadata": {},
   "outputs": [],
   "source": [
    "from pythae.models.nn import BaseEncoder, BaseDecoder\n",
    "from pythae.models.base.base_utils import ModelOutput\n",
    "import torch.nn as nn\n",
    "\n",
    "class ResBlock(nn.Module):\n",
    "    def __init__(self, in_channels, middle_channels, out_channels):\n",
    "        super(ResBlock, self).__init__()\n",
    "        assert out_channels==in_channels \n",
    "        self.conv1 = nn.Sequential(\n",
    "                        nn.BatchNorm1d(in_channels),\n",
    "                        nn.ReLU(),\n",
    "                        nn.Conv1d(in_channels, middle_channels, kernel_size = 3, stride = 1, padding = 1))\n",
    "        self.conv2 = nn.Sequential(\n",
    "                        nn.BatchNorm1d(middle_channels),\n",
    "                        nn.ReLU(),\n",
    "                        nn.Conv1d(middle_channels, out_channels, kernel_size = 3, stride = 1, padding = 1))   \n",
    "        \n",
    "    def forward(self, x):\n",
    "        residual = x\n",
    "        out = self.conv1(x)\n",
    "        out = self.conv2(out)\n",
    "        out += residual\n",
    "        return out\n",
    "\n",
    "class Encoder_Conv_VAE_Power(BaseEncoder):\n",
    "    def __init__(self, args):\n",
    "        BaseEncoder.__init__(self)\n",
    "\n",
    "        self.input_dim = (1, 7)\n",
    "        self.latent_dim = args.latent_dim\n",
    "        self.n_channels = 1\n",
    "\n",
    "        self.input_layers = nn.Sequential(\n",
    "            nn.ReLU(),\n",
    "            nn.Conv1d(self.n_channels, 16, 3, 1, 1),\n",
    "        )\n",
    "        self.residual_layers = nn.Sequential(\n",
    "            *[ResBlock(16, 4, 16) for _ in range(2)]\n",
    "        )\n",
    "\n",
    "        self.embedding = nn.Linear(16 * 7, args.latent_dim)\n",
    "        self.log_var = nn.Linear(16 * 7, args.latent_dim)\n",
    "\n",
    "    def forward(self, x: torch.Tensor):\n",
    "        h1 = self.input_layers(x)\n",
    "        h2 = self.residual_layers(h1)\n",
    "        h3 = h2.reshape(x.shape[0], -1)\n",
    "        output = ModelOutput(\n",
    "            embedding=self.embedding(h3),\n",
    "            log_covariance=self.log_var(h3)\n",
    "        )\n",
    "        return output\n",
    "    \n",
    "class Decoder_Conv_VAE_Power(BaseDecoder):\n",
    "    def __init__(self, args):\n",
    "        BaseDecoder.__init__(self)\n",
    "        self.input_dim = (1, 7)\n",
    "        self.latent_dim = args.latent_dim\n",
    "        self.n_channels = 1\n",
    "\n",
    "        self.fc = nn.Linear(args.latent_dim, 16 * 7)\n",
    "        self.residual_layers = nn.Sequential(\n",
    "            *[ResBlock(16, 4, 16) for _ in range(2)]\n",
    "        )\n",
    "        self.output_layers = nn.Sequential(\n",
    "            nn.ReLU(),\n",
    "            nn.Conv1d(16, self.n_channels, 3, 1, 1),\n",
    "            nn.Sigmoid(),\n",
    "        )\n",
    "\n",
    "    def forward(self, z: torch.Tensor):\n",
    "        h1 = self.fc(z).reshape(z.shape[0], 16, 7)\n",
    "        h2 = self.residual_layers(h1)\n",
    "        h3 = self.output_layers(h2)\n",
    "        output = ModelOutput(reconstruction=h3)\n",
    "\n",
    "        return output"
   ]
  },
  {
   "cell_type": "code",
   "execution_count": 6,
   "metadata": {},
   "outputs": [],
   "source": [
    "from pythae.models import VAEConfig\n",
    "\n",
    "model_config = VAEConfig(\n",
    "    input_dim=(1, 7),\n",
    "    latent_dim=16\n",
    "    )\n",
    "\n",
    "encoder = Encoder_Conv_VAE_Power(model_config)\n",
    "decoder= Decoder_Conv_VAE_Power(model_config)\n",
    "\n",
    "from typing import Optional\n",
    "from pythae.models import VAE\n",
    "import torch.nn.functional as F\n",
    "\n",
    "class VAE_CE(VAE):\n",
    "    def __init__(self,\n",
    "        model_config: VAEConfig,\n",
    "        encoder: Optional[BaseEncoder] = None,\n",
    "        decoder: Optional[BaseDecoder] = None,):\n",
    "        \n",
    "        super().__init__(model_config, encoder, decoder)\n",
    "\n",
    "    def get_nll_batch(self, data, n_samples=1):\n",
    "        \"\"\"\n",
    "        Function computed the estimate negative log-likelihood of the model. It uses importance\n",
    "        sampling method with the approximate posterior distribution. This may take a while.\n",
    "\n",
    "        Args:\n",
    "            data (torch.Tensor): The input data from which the log-likelihood should be estimated.\n",
    "                Data must be of shape [Batch x n_channels x ...]\n",
    "            n_samples (int): The number of importance samples to use for estimation\n",
    "        \"\"\"\n",
    "        log_p_x = []\n",
    "\n",
    "        for i in range(n_samples):\n",
    "\n",
    "            encoder_output = self.encoder(data)\n",
    "            mu, log_var = encoder_output.embedding, encoder_output.log_covariance\n",
    "\n",
    "            std = torch.exp(0.5 * log_var)\n",
    "            z, _ = self._sample_gauss(mu, std)\n",
    "\n",
    "            log_q_z_given_x = -0.5 * (\n",
    "                log_var + (z - mu) ** 2 / torch.exp(log_var)\n",
    "            ).sum(dim=-1, keepdim=True) # shape [B x 1]\n",
    "            log_p_z = -0.5 * (z ** 2).sum(dim=-1, keepdim=True) # shape [B x 1]\n",
    "            \n",
    "            # print(f'log_q_z_given_x: {log_q_z_given_x.shape}')\n",
    "            # print(f'log_p_z: {log_p_z.shape}')\n",
    "\n",
    "            recon_x = self.decoder(z)[\"reconstruction\"]\n",
    "\n",
    "            if self.model_config.reconstruction_loss == \"mse\":\n",
    "\n",
    "                log_p_x_given_z = -0.5 * torch.log(F.mse_loss(\n",
    "                    recon_x.reshape(data.shape[0], -1),\n",
    "                    data.reshape(data.shape[0], -1),\n",
    "                    reduction=\"none\",\n",
    "                )).sum(dim=-1) - torch.tensor(\n",
    "                    [np.prod(self.input_dim) / 2 * np.log(np.pi * np.e * 2)]\n",
    "                ).to(\n",
    "                    data.device\n",
    "                )  # decoding distribution is assumed unit variance  N(mu, I)\n",
    "\n",
    "            elif self.model_config.reconstruction_loss == \"bce\":\n",
    "\n",
    "                log_p_x_given_z = -F.binary_cross_entropy(\n",
    "                    recon_x.reshape(data.shape[0], -1),\n",
    "                    data.reshape(data.shape[0], -1),\n",
    "                    reduction=\"none\",\n",
    "                ).sum(dim=-1)\n",
    "\n",
    "            log_p_x.append(\n",
    "                    log_p_x_given_z + log_p_z - log_q_z_given_x\n",
    "                )  # log(2*pi) simplifies\n",
    "\n",
    "        log_p_x = torch.cat(log_p_x, dim=1) # [B x n_samples]\n",
    "        # print(f'log_p_x: {log_p_x.shape}')\n",
    "        \n",
    "        return torch.logsumexp(log_p_x, dim=1) - np.log(n_samples)\n",
    "        \n",
    "model = VAE_CE(\n",
    "    model_config=model_config,\n",
    "    encoder=encoder,\n",
    "    decoder=decoder\n",
    ").cuda()"
   ]
  },
  {
   "cell_type": "code",
   "execution_count": 11,
   "metadata": {},
   "outputs": [
    {
     "name": "stderr",
     "output_type": "stream",
     "text": [
      "Checking train dataset...\n",
      "Checking eval dataset...\n",
      "Using Base Trainer\n",
      "\n",
      "Model passed sanity check !\n",
      "Ready for training.\n",
      "\n",
      "Created ./saved_models/power_test/test_-1/VAE_training_2024-07-24_16-43-41. \n",
      "Training config, checkpoints and final model will be saved here.\n",
      "\n",
      "Training params:\n",
      " - max_epochs: 10\n",
      " - per_device_train_batch_size: 512\n",
      " - per_device_eval_batch_size: 512\n",
      " - checkpoint saving every: None\n",
      "Optimizer: Adam (\n",
      "Parameter Group 0\n",
      "    amsgrad: False\n",
      "    betas: (0.9, 0.999)\n",
      "    capturable: False\n",
      "    differentiable: False\n",
      "    eps: 1e-08\n",
      "    foreach: None\n",
      "    fused: None\n",
      "    lr: 0.001\n",
      "    maximize: False\n",
      "    weight_decay: 0\n",
      ")\n",
      "Scheduler: None\n",
      "\n",
      "Successfully launched training !\n",
      "\n"
     ]
    },
    {
     "data": {
      "application/vnd.jupyter.widget-view+json": {
       "model_id": "bc627f5e0d414dd5832c9cedbc3a2f6e",
       "version_major": 2,
       "version_minor": 0
      },
      "text/plain": [
       "Training of epoch 1/10:   0%|          | 0/3603 [00:00<?, ?batch/s]"
      ]
     },
     "metadata": {},
     "output_type": "display_data"
    },
    {
     "data": {
      "application/vnd.jupyter.widget-view+json": {
       "model_id": "4d3fdf7c98ff497da3e20b06adef640a",
       "version_major": 2,
       "version_minor": 0
      },
      "text/plain": [
       "Eval of epoch 1/10:   0%|          | 0/401 [00:00<?, ?batch/s]"
      ]
     },
     "metadata": {},
     "output_type": "display_data"
    },
    {
     "name": "stderr",
     "output_type": "stream",
     "text": [
      "--------------------------------------------------------------------------\n",
      "Train loss: 0.0699\n",
      "Eval loss: 0.06\n",
      "--------------------------------------------------------------------------\n"
     ]
    },
    {
     "data": {
      "application/vnd.jupyter.widget-view+json": {
       "model_id": "62b8191f1afb4bbfa2cbce803320f113",
       "version_major": 2,
       "version_minor": 0
      },
      "text/plain": [
       "Training of epoch 2/10:   0%|          | 0/3603 [00:00<?, ?batch/s]"
      ]
     },
     "metadata": {},
     "output_type": "display_data"
    },
    {
     "data": {
      "application/vnd.jupyter.widget-view+json": {
       "model_id": "93bb012424b84e6baafa71614aa6f159",
       "version_major": 2,
       "version_minor": 0
      },
      "text/plain": [
       "Eval of epoch 2/10:   0%|          | 0/401 [00:00<?, ?batch/s]"
      ]
     },
     "metadata": {},
     "output_type": "display_data"
    },
    {
     "name": "stderr",
     "output_type": "stream",
     "text": [
      "--------------------------------------------------------------------------\n",
      "Train loss: 0.0599\n",
      "Eval loss: 0.0599\n",
      "--------------------------------------------------------------------------\n"
     ]
    },
    {
     "data": {
      "application/vnd.jupyter.widget-view+json": {
       "model_id": "50df36081d01498699ea63eb6ff9b568",
       "version_major": 2,
       "version_minor": 0
      },
      "text/plain": [
       "Training of epoch 3/10:   0%|          | 0/3603 [00:00<?, ?batch/s]"
      ]
     },
     "metadata": {},
     "output_type": "display_data"
    },
    {
     "data": {
      "application/vnd.jupyter.widget-view+json": {
       "model_id": "3a3ea3fc9973405aae8b7e589a4885c0",
       "version_major": 2,
       "version_minor": 0
      },
      "text/plain": [
       "Eval of epoch 3/10:   0%|          | 0/401 [00:00<?, ?batch/s]"
      ]
     },
     "metadata": {},
     "output_type": "display_data"
    },
    {
     "name": "stderr",
     "output_type": "stream",
     "text": [
      "--------------------------------------------------------------------------\n",
      "Train loss: 0.0598\n",
      "Eval loss: 0.0599\n",
      "--------------------------------------------------------------------------\n"
     ]
    },
    {
     "data": {
      "application/vnd.jupyter.widget-view+json": {
       "model_id": "7b051c69691a45279290900395139904",
       "version_major": 2,
       "version_minor": 0
      },
      "text/plain": [
       "Training of epoch 4/10:   0%|          | 0/3603 [00:00<?, ?batch/s]"
      ]
     },
     "metadata": {},
     "output_type": "display_data"
    },
    {
     "data": {
      "application/vnd.jupyter.widget-view+json": {
       "model_id": "060edda6af9f4be2951504c1fad3cb5b",
       "version_major": 2,
       "version_minor": 0
      },
      "text/plain": [
       "Eval of epoch 4/10:   0%|          | 0/401 [00:00<?, ?batch/s]"
      ]
     },
     "metadata": {},
     "output_type": "display_data"
    },
    {
     "name": "stderr",
     "output_type": "stream",
     "text": [
      "--------------------------------------------------------------------------\n",
      "Train loss: 0.0598\n",
      "Eval loss: 0.0598\n",
      "--------------------------------------------------------------------------\n"
     ]
    },
    {
     "data": {
      "application/vnd.jupyter.widget-view+json": {
       "model_id": "13f199f73cd0413ebfddf0474fe44a65",
       "version_major": 2,
       "version_minor": 0
      },
      "text/plain": [
       "Training of epoch 5/10:   0%|          | 0/3603 [00:00<?, ?batch/s]"
      ]
     },
     "metadata": {},
     "output_type": "display_data"
    },
    {
     "data": {
      "application/vnd.jupyter.widget-view+json": {
       "model_id": "1b0c2c858ee54814af6df94127d111fa",
       "version_major": 2,
       "version_minor": 0
      },
      "text/plain": [
       "Eval of epoch 5/10:   0%|          | 0/401 [00:00<?, ?batch/s]"
      ]
     },
     "metadata": {},
     "output_type": "display_data"
    },
    {
     "name": "stderr",
     "output_type": "stream",
     "text": [
      "--------------------------------------------------------------------------\n",
      "Train loss: 0.0598\n",
      "Eval loss: 0.0598\n",
      "--------------------------------------------------------------------------\n"
     ]
    },
    {
     "data": {
      "application/vnd.jupyter.widget-view+json": {
       "model_id": "499ab4faec5a45feaa384bfee117eaf7",
       "version_major": 2,
       "version_minor": 0
      },
      "text/plain": [
       "Training of epoch 6/10:   0%|          | 0/3603 [00:00<?, ?batch/s]"
      ]
     },
     "metadata": {},
     "output_type": "display_data"
    },
    {
     "data": {
      "application/vnd.jupyter.widget-view+json": {
       "model_id": "b1e65cf64f8e46afb55db64fb0b9a276",
       "version_major": 2,
       "version_minor": 0
      },
      "text/plain": [
       "Eval of epoch 6/10:   0%|          | 0/401 [00:00<?, ?batch/s]"
      ]
     },
     "metadata": {},
     "output_type": "display_data"
    },
    {
     "name": "stderr",
     "output_type": "stream",
     "text": [
      "--------------------------------------------------------------------------\n",
      "Train loss: 0.0598\n",
      "Eval loss: 0.0598\n",
      "--------------------------------------------------------------------------\n"
     ]
    },
    {
     "data": {
      "application/vnd.jupyter.widget-view+json": {
       "model_id": "b910ead74ca2485dac6266b14e17f0d5",
       "version_major": 2,
       "version_minor": 0
      },
      "text/plain": [
       "Training of epoch 7/10:   0%|          | 0/3603 [00:00<?, ?batch/s]"
      ]
     },
     "metadata": {},
     "output_type": "display_data"
    },
    {
     "data": {
      "application/vnd.jupyter.widget-view+json": {
       "model_id": "5a09692095d54fa48092653241c204b2",
       "version_major": 2,
       "version_minor": 0
      },
      "text/plain": [
       "Eval of epoch 7/10:   0%|          | 0/401 [00:00<?, ?batch/s]"
      ]
     },
     "metadata": {},
     "output_type": "display_data"
    },
    {
     "name": "stderr",
     "output_type": "stream",
     "text": [
      "--------------------------------------------------------------------------\n",
      "Train loss: 0.0598\n",
      "Eval loss: 0.0598\n",
      "--------------------------------------------------------------------------\n"
     ]
    },
    {
     "data": {
      "application/vnd.jupyter.widget-view+json": {
       "model_id": "d749cb428a134dc69a1e7b1036027ea4",
       "version_major": 2,
       "version_minor": 0
      },
      "text/plain": [
       "Training of epoch 8/10:   0%|          | 0/3603 [00:00<?, ?batch/s]"
      ]
     },
     "metadata": {},
     "output_type": "display_data"
    },
    {
     "data": {
      "application/vnd.jupyter.widget-view+json": {
       "model_id": "0f6d1f621216424591ee05cbb9595bdb",
       "version_major": 2,
       "version_minor": 0
      },
      "text/plain": [
       "Eval of epoch 8/10:   0%|          | 0/401 [00:00<?, ?batch/s]"
      ]
     },
     "metadata": {},
     "output_type": "display_data"
    },
    {
     "name": "stderr",
     "output_type": "stream",
     "text": [
      "--------------------------------------------------------------------------\n",
      "Train loss: 0.0598\n",
      "Eval loss: 0.0598\n",
      "--------------------------------------------------------------------------\n"
     ]
    },
    {
     "data": {
      "application/vnd.jupyter.widget-view+json": {
       "model_id": "78a9f2a977254f14ab45e968e5b79265",
       "version_major": 2,
       "version_minor": 0
      },
      "text/plain": [
       "Training of epoch 9/10:   0%|          | 0/3603 [00:00<?, ?batch/s]"
      ]
     },
     "metadata": {},
     "output_type": "display_data"
    },
    {
     "data": {
      "application/vnd.jupyter.widget-view+json": {
       "model_id": "2fe21b447e484d1cad3683b8aa3dfd43",
       "version_major": 2,
       "version_minor": 0
      },
      "text/plain": [
       "Eval of epoch 9/10:   0%|          | 0/401 [00:00<?, ?batch/s]"
      ]
     },
     "metadata": {},
     "output_type": "display_data"
    },
    {
     "name": "stderr",
     "output_type": "stream",
     "text": [
      "--------------------------------------------------------------------------\n",
      "Train loss: 0.0598\n",
      "Eval loss: 0.0598\n",
      "--------------------------------------------------------------------------\n"
     ]
    },
    {
     "data": {
      "application/vnd.jupyter.widget-view+json": {
       "model_id": "beed6869d92e44e4887b818ae4500f2d",
       "version_major": 2,
       "version_minor": 0
      },
      "text/plain": [
       "Training of epoch 10/10:   0%|          | 0/3603 [00:00<?, ?batch/s]"
      ]
     },
     "metadata": {},
     "output_type": "display_data"
    },
    {
     "data": {
      "application/vnd.jupyter.widget-view+json": {
       "model_id": "3804b3d125314f80bd38576c4397f193",
       "version_major": 2,
       "version_minor": 0
      },
      "text/plain": [
       "Eval of epoch 10/10:   0%|          | 0/401 [00:00<?, ?batch/s]"
      ]
     },
     "metadata": {},
     "output_type": "display_data"
    },
    {
     "name": "stderr",
     "output_type": "stream",
     "text": [
      "--------------------------------------------------------------------------\n",
      "Train loss: 0.0598\n",
      "Eval loss: 0.0598\n",
      "--------------------------------------------------------------------------\n",
      "Training ended!\n",
      "Saved final model in ./saved_models/power_test/test_-1/VAE_training_2024-07-24_16-43-41/final_model\n"
     ]
    }
   ],
   "source": [
    "from pythae.trainers import BaseTrainerConfig\n",
    "from pythae.pipelines import TrainingPipeline\n",
    "\n",
    "training_config = BaseTrainerConfig(\n",
    "    output_dir='./saved_models/power_test/test_-1',\n",
    "    learning_rate=1e-3,\n",
    "    per_device_train_batch_size=512,\n",
    "    per_device_eval_batch_size=512,\n",
    "    steps_saving=None,\n",
    "    num_epochs=10)\n",
    "\n",
    "pipeline = TrainingPipeline(\n",
    "    model=model,\n",
    "    training_config=training_config)\n",
    "\n",
    "pipeline(\n",
    "    train_data=train_dataset,\n",
    "    eval_data=eval_dataset,\n",
    ")"
   ]
  },
  {
   "cell_type": "code",
   "execution_count": null,
   "metadata": {},
   "outputs": [],
   "source": [
    "# from pythae.models import AutoModel\n",
    "# import os\n",
    "# last_training = sorted(os.listdir('./saved_models/power_test/test_-1'))[-1]\n",
    "# model_rec = AutoModel.load_from_folder(os.path.join('./saved_models/power_test/test_-1', last_training, 'final_model'))\n",
    "# model.__class__ = VAE_CE"
   ]
  },
  {
   "cell_type": "code",
   "execution_count": 7,
   "metadata": {},
   "outputs": [],
   "source": [
    "import math\n",
    "import numpy as np\n",
    "from my_utils import Card, ErrorMetric, GenerateQuery, estimate_probabilities, make_points\n",
    "\n",
    "def eval_power(model):\n",
    "    table = original_data\n",
    "    rng = np.random.RandomState(1234)\n",
    "    count = 0\n",
    "    n_rows = table.data.shape[0] - int(table.data.shape[0] * 0.1) \n",
    "    # n_rows = table.data.shape[0] \n",
    "    qerrors = []\n",
    "\n",
    "    for i in range(3000):\n",
    "            \n",
    "        cols, ops, vals = GenerateQuery(table.columns, rng, table.data)\n",
    "        true_card = Card(table.data[:int(table.data.shape[0] * 0.9)], cols, ops, vals)\n",
    "        # true_card = Card(table.data, cols, ops, vals)\n",
    "        predicates = []\n",
    "        for c, o, v in zip(cols, ops, vals):\n",
    "            predicates.append((c, o, v))\n",
    "                \n",
    "        left_bounds = {}\n",
    "        right_bounds = {}\n",
    "        \n",
    "        for idx, attr in enumerate(table.columns):\n",
    "            col_name = attr.name   \n",
    "            left_bounds[col_name] = table.mins[idx]\n",
    "            right_bounds[col_name] = table.maxs[idx] \n",
    "                \n",
    "        table_stats = (table.columns, table.name_to_index, right_bounds, left_bounds)\n",
    "        \n",
    "        # print(predicates)\n",
    "        integration_domain = make_points(table_stats, predicates, table.bias, None, 'minmax')\n",
    "        \n",
    "        # print(integration_domain)\n",
    "        def pdf(x):\n",
    "            nll = model.get_nll_batch(x)\n",
    "            \n",
    "            # print(f'nll: {nll.shape}')\n",
    "            return nll\n",
    "        \n",
    "        prob = estimate_probabilities(pdf, integration_domain, len(table.columns)).item()\n",
    "        # print(f'prob: {prob}')\n",
    "        \n",
    "        if  math.isnan(prob):\n",
    "            est_card = 1\n",
    "            count += 1\n",
    "        elif  math.isinf(prob):   \n",
    "            est_card = n_rows if prob > 0 else 1\n",
    "            count += 1\n",
    "        else:\n",
    "            est_card = max(prob * n_rows, 1)\n",
    "            \n",
    "            if est_card > n_rows:\n",
    "                count += 1\n",
    "                est_card = n_rows\n",
    "                # print(f'prob {prob} true_card: {true_card}')\n",
    "            \n",
    "        qerror = ErrorMetric(est_card, true_card)\n",
    "        qerrors.append(qerror)\n",
    "        \n",
    "        if i % 100 == 0:\n",
    "            print(f'{i} queries done')\n",
    "    \n",
    "    return count, qerrors"
   ]
  },
  {
   "cell_type": "code",
   "execution_count": 16,
   "metadata": {},
   "outputs": [
    {
     "name": "stdout",
     "output_type": "stream",
     "text": [
      "0 queries done\n",
      "100 queries done\n",
      "200 queries done\n",
      "300 queries done\n",
      "400 queries done\n",
      "500 queries done\n",
      "600 queries done\n",
      "700 queries done\n",
      "800 queries done\n",
      "900 queries done\n",
      "1000 queries done\n",
      "1100 queries done\n",
      "1200 queries done\n",
      "1300 queries done\n",
      "1400 queries done\n",
      "1500 queries done\n",
      "1600 queries done\n",
      "1700 queries done\n",
      "1800 queries done\n",
      "1900 queries done\n",
      "2000 queries done\n",
      "2100 queries done\n",
      "2200 queries done\n",
      "2300 queries done\n",
      "2400 queries done\n",
      "2500 queries done\n",
      "2600 queries done\n",
      "2700 queries done\n",
      "2800 queries done\n",
      "2900 queries done\n"
     ]
    }
   ],
   "source": [
    "count, qerrors = eval_power(model)"
   ]
  },
  {
   "cell_type": "code",
   "execution_count": 17,
   "metadata": {},
   "outputs": [
    {
     "name": "stdout",
     "output_type": "stream",
     "text": [
      "estimation failed times: 1029\n",
      "test results\n",
      "Median: 49.392325303045666\n",
      "90th percentile: 9860.696782362951\n",
      "95th percentile: 34160.11837027216\n",
      "99th percentile: 398822.4244167949\n",
      "Max: 1844352.0\n",
      "Mean: 17311.7094835641\n"
     ]
    }
   ],
   "source": [
    "print(f'estimation failed times: {count}')\n",
    "print('test results')\n",
    "print(f\"Median: {np.median(qerrors)}\")\n",
    "print(f\"90th percentile: {np.percentile(qerrors, 90)}\")\n",
    "print(f\"95th percentile: {np.percentile(qerrors, 95)}\")\n",
    "print(f\"99th percentile: {np.percentile(qerrors, 99)}\")\n",
    "print(f\"Max: {np.max(qerrors)}\")\n",
    "print(f\"Mean: {np.mean(qerrors)}\")"
   ]
  },
  {
   "cell_type": "markdown",
   "metadata": {},
   "source": [
    "256\n",
    "estimation failed times: 2275\n",
    "test results\n",
    "Median: 61.312145072691465\n",
    "90th percentile: 13137.085710979565\n",
    "95th percentile: 54245.64705882353\n",
    "99th percentile: 461327.5539670102\n",
    "Max: 1844352.0\n",
    "Mean: 19325.10150461067\n",
    "\n",
    "16\n",
    "2层\n",
    "estimation failed times: 1686\n",
    "test results\n",
    "Median: 16.94870361887311\n",
    "90th percentile: 3575.8930232558123\n",
    "95th percentile: 14070.845913264851\n",
    "99th percentile: 154568.74266167908\n",
    "Max: 1844352.0\n",
    "Mean: 9211.902219659025\n",
    "8层\n",
    "estimation failed times: 2269\n",
    "test results\n",
    "Median: 55.58625678119349\n",
    "90th percentile: 13733.809901449096\n",
    "95th percentile: 48126.172612388735\n",
    "99th percentile: 461088.0\n",
    "Max: 1844352.0\n",
    "Mean: 18189.851955382997"
   ]
  },
  {
   "cell_type": "code",
   "execution_count": 21,
   "metadata": {},
   "outputs": [],
   "source": [
    "import torch\n",
    "import torch.nn as nn\n",
    "\n",
    "class SE_Block(nn.Module):\n",
    "    def __init__(self, c, r=16):\n",
    "        super().__init__()\n",
    "        self.squeeze = nn.AdaptiveAvgPool1d(1)\n",
    "        self.excitation = nn.Sequential(\n",
    "            nn.Linear(c, c // r, bias=False),\n",
    "            nn.ReLU(inplace=True),\n",
    "            nn.Linear(c // r, c, bias=False),\n",
    "            nn.Sigmoid()\n",
    "        )\n",
    "\n",
    "    def forward(self, x):\n",
    "        bs, c, _ = x.shape\n",
    "        y = self.squeeze(x).view(bs, c)\n",
    "        y = self.excitation(y).view(bs, c, 1)\n",
    "        return x * y.expand_as(x)\n",
    "    \n",
    "class ResidualBlockA(nn.Module):\n",
    "    def __init__(self, in_channels, out_channels):\n",
    "        super(ResidualBlockA, self).__init__()\n",
    "        assert out_channels == in_channels \n",
    "        self.conv1 = nn.Sequential(\n",
    "                        nn.BatchNorm1d(in_channels),\n",
    "                        nn.SiLU(),\n",
    "                        nn.Conv1d(in_channels, out_channels, kernel_size = 3, stride = 1, padding = 1))\n",
    "        self.conv2 = nn.Sequential(\n",
    "                        nn.BatchNorm1d(out_channels),\n",
    "                        nn.SiLU(),\n",
    "                        nn.Conv1d(out_channels, out_channels, kernel_size = 3, stride = 1, padding = 1),\n",
    "                        SE_Block(out_channels))   \n",
    "        self.out_channels = out_channels\n",
    "        self.sigmoid = nn.Sigmoid()\n",
    "    def forward(self, x):\n",
    "        residual = x\n",
    "        out = self.conv1(x)\n",
    "        out = self.conv2(out)\n",
    "        out += residual\n",
    "        return out\n",
    "\n",
    "class ResidualBlockB(nn.Module):\n",
    "    def __init__(self, in_channels, out_channels):\n",
    "        super(ResidualBlockB, self).__init__()\n",
    "        assert out_channels == 2 * in_channels\n",
    "        self.conv1 = nn.Sequential(\n",
    "                        nn.BatchNorm1d(in_channels),\n",
    "                        nn.SiLU(),\n",
    "                        nn.Conv1d(in_channels, out_channels, kernel_size = 3, stride = 1, padding = 1))\n",
    "        self.conv2 = nn.Sequential(\n",
    "                        nn.BatchNorm1d(out_channels),\n",
    "                        nn.SiLU(),\n",
    "                        nn.Conv1d(out_channels, out_channels, kernel_size = 3, stride = 1, padding = 1),\n",
    "                        SE_Block(out_channels))\n",
    "        self.factorized_reduction=nn.Conv1d(in_channels, out_channels, kernel_size = 1, stride = 1, padding = 0)\n",
    "        self.out_channels = out_channels\n",
    "        self.swish = SE_Block(in_channels)\n",
    "    def forward(self, x):\n",
    "        # print('residualB')\n",
    "        # print('x shape',x.shape)\n",
    "        residual = self.swish(x)\n",
    "        residual = self.factorized_reduction(residual)\n",
    "        out = self.conv1(x)\n",
    "        out = self.conv2(out)\n",
    "        out += residual\n",
    "        # print('out shape',out.shape)\n",
    "        return out\n",
    "\n",
    "class Binary_Classifier(nn.Module):\n",
    "    def __init__(self, blockA, blockB, inchannel):\n",
    "        super(Binary_Classifier, self).__init__()\n",
    "        self.inplanes = inchannel\n",
    "        self.conv1 = nn.Sequential(\n",
    "                        nn.Conv1d(self.inplanes, self.inplanes, kernel_size=3, stride=1, padding=1),\n",
    "                        nn.ReLU())\n",
    "        self.layer0 = self._make_layer(blockA, self.inplanes, self.inplanes, 3)\n",
    "        self.layer1 = self._make_layer(blockB, self.inplanes, self.inplanes * 2, 1)\n",
    "        self.layer2 = self._make_layer(blockA, self.inplanes * 2, self.inplanes * 2, 3)\n",
    "        self.layer3 = self._make_layer(blockB, self.inplanes * 2, self.inplanes * 4, 1)\n",
    "        self.avgpool = nn.AdaptiveAvgPool1d(1)\n",
    "        self.fc = nn.Linear(self.inplanes * 4, 1)\n",
    "        self.sigmoid = nn.Sigmoid()\n",
    "        \n",
    "    def _make_layer(self, block, in_channels, out_channels, blocks):\n",
    "        layers = []\n",
    "        for i in range(blocks):\n",
    "            layers.append(block(in_channels, out_channels))\n",
    "        return nn.Sequential(*layers)\n",
    "    \n",
    "    \n",
    "    def forward(self, x):\n",
    "        # x=self.linear1(x)\n",
    "        # x=x.reshape(x.shape[0],self.inplanes,16,16)\n",
    "\n",
    "        x = self.conv1(x)\n",
    "        # print(x.shape)\n",
    "        x = self.layer0(x)\n",
    "        # print(x.shape)\n",
    "        x = self.layer1(x)\n",
    "        # print('layer1 out',x.shape)\n",
    "        x = self.layer2(x)\n",
    "        x = self.layer3(x)\n",
    "\n",
    "        x = self.avgpool(x)\n",
    "        x = x.view(x.size(0), -1)\n",
    "        x = self.fc(x)\n",
    "        x = self.sigmoid(x)\n",
    "        return x\n",
    "        \n",
    "class NCP_VAE(nn.Module):\n",
    "    def __init__(self, sampler, bin_classifier):\n",
    "        super(NCP_VAE, self).__init__()\n",
    "        self.sampler = sampler\n",
    "        self.bin_classifier = bin_classifier\n",
    "        self.bin_classifier.eval()\n",
    "        self.device = \"cuda\" if torch.cuda.is_available() else \"cpu\"\n",
    "\n",
    "    @torch.no_grad()\n",
    "    def get_reweight(self, z):\n",
    "        x = self.sampler.model.decoder(z)[\"reconstruction\"].detach()\n",
    "        D = self.bin_classifier(x)\n",
    "        r = D / (1 - D)\n",
    "        return r\n",
    "\n",
    "    @torch.no_grad()\n",
    "    def sample_from_p(self, num_samples):\n",
    "        \"\"\"sample from gaussian mixture\"\"\"\n",
    "        try:\n",
    "            z = torch.tensor(self.sampler.gmm.sample(num_samples)[0]).type(torch.float).to(self.device)\n",
    "        except Exception:\n",
    "            z = torch.randn(num_samples, self.sampler.model.latent_dim).to(self.device)\n",
    "        return z\n",
    "\n",
    "    @torch.no_grad()\n",
    "    def sample_from_q(self, input):\n",
    "        z = self.sampler.model(input).z.detach().to(device)\n",
    "        return z\n",
    "\n",
    "    @torch.no_grad()\n",
    "    def _sample_from_ncp(self, num_samples):\n",
    "        z = self.sample_from_p(num_samples)\n",
    "        r = self.get_reweight(z).reshape(-1,)\n",
    "        r /= r.sum()\n",
    "        idx = torch.multinomial(r, num_samples)\n",
    "        return z[idx]\n",
    "\n",
    "    @torch.no_grad()\n",
    "    def sample(self, num_samples):\n",
    "        z = self._sample_from_ncp(num_samples)\n",
    "        return self.sampler.model.decoder(z)[\"reconstruction\"].detach()\n",
    "    \n",
    "    @torch.no_grad()\n",
    "    def get_nll_batch(self, data, n_samples=1):\n",
    "        log_p_x = []\n",
    "\n",
    "        for i in range(n_samples):\n",
    "\n",
    "            encoder_output = self.sampler.model.encoder(data)\n",
    "            mu, log_var = encoder_output.embedding, encoder_output.log_covariance\n",
    "\n",
    "            std = torch.exp(0.5 * log_var)\n",
    "            z, _ = self.sampler.model._sample_gauss(mu, std)\n",
    "            r = self.get_reweight(z).reshape(-1,)\n",
    "            r /= r.sum()\n",
    "            idx = torch.multinomial(r, z.shape[0])\n",
    "            z = z[idx]\n",
    "\n",
    "            log_q_z_given_x = -0.5 * (\n",
    "                log_var + (z - mu) ** 2 / torch.exp(log_var)\n",
    "            ).sum(dim=-1, keepdim=True) # shape [B x 1]\n",
    "            log_p_z = -0.5 * (z ** 2).sum(dim=-1, keepdim=True) # shape [B x 1]\n",
    "            \n",
    "            # print(f'log_q_z_given_x: {log_q_z_given_x.shape}')\n",
    "            # print(f'log_p_z: {log_p_z.shape}')\n",
    "\n",
    "            recon_x = self.sampler.model.decoder(z)[\"reconstruction\"]\n",
    "\n",
    "            if self.sampler.model.model_config.reconstruction_loss == \"mse\":\n",
    "\n",
    "                log_p_x_given_z = -0.5 * torch.log(F.mse_loss(\n",
    "                    recon_x.reshape(data.shape[0], -1),\n",
    "                    data.reshape(data.shape[0], -1),\n",
    "                    reduction=\"none\",\n",
    "                )).sum(dim=-1) - torch.tensor(\n",
    "                    [np.prod(self.sampler.model.input_dim) / 2 * np.log(np.pi * np.e * 2)]\n",
    "                ).to(\n",
    "                    data.device\n",
    "                )  # decoding distribution is assumed unit variance  N(mu, I)\n",
    "\n",
    "            elif self.sampler.model.model_config.reconstruction_loss == \"bce\":\n",
    "\n",
    "                log_p_x_given_z = -F.binary_cross_entropy(\n",
    "                    recon_x.reshape(data.shape[0], -1),\n",
    "                    data.reshape(data.shape[0], -1),\n",
    "                    reduction=\"none\",\n",
    "                ).sum(dim=-1)\n",
    "\n",
    "            log_p_x.append(\n",
    "                    log_p_x_given_z + log_p_z - log_q_z_given_x\n",
    "                )  # log(2*pi) simplifies\n",
    "\n",
    "        log_p_x = torch.cat(log_p_x, dim=1) # [B x n_samples]\n",
    "        # print(f'log_p_x: {log_p_x.shape}')\n",
    "        \n",
    "        return torch.logsumexp(log_p_x, dim=1) - np.log(n_samples)"
   ]
  },
  {
   "cell_type": "code",
   "execution_count": 22,
   "metadata": {},
   "outputs": [],
   "source": [
    "def train_ncp(sampler, data_loader, epochs=10, lr=0.001):\n",
    "    device = \"cuda\" if torch.cuda.is_available() else \"cpu\"\n",
    "    binary_classifier = Binary_Classifier(ResidualBlockA, ResidualBlockB, 1).to(device)\n",
    "    optimizer = torch.optim.Adam(binary_classifier.parameters(), lr=lr)\n",
    "    criterion = nn.BCELoss()\n",
    "    for epoch in range(epochs):\n",
    "        acc = []\n",
    "        losses = []\n",
    "        for batch in data_loader:\n",
    "            num_samples = len(batch['data'])\n",
    "            q = sampler.model(batch).recon_x\n",
    "            p = sampler.sample(num_samples)\n",
    "            input = torch.cat((q, p), dim=0)\n",
    "            labels = torch.cat((torch.ones(num_samples), torch.zeros(num_samples))).to(device)\n",
    "            out = binary_classifier(input).squeeze()\n",
    "            loss = criterion(out, labels) \n",
    "            acc.append(np.mean(np.array(out.cpu() > 0.5) == np.array(labels.cpu())))\n",
    "            optimizer.zero_grad()\n",
    "            loss.backward()\n",
    "            losses.append(loss.cpu().item())\n",
    "            optimizer.step()\n",
    "        print('Eopoch :{} | Acc : {:.3f} | Loss : {:.3f} '.format(epoch,np.mean(acc),np.mean(losses)))\n",
    "\n",
    "    ncp_vae = NCP_VAE(sampler,binary_classifier)\n",
    "    \n",
    "    return ncp_vae"
   ]
  },
  {
   "cell_type": "code",
   "execution_count": 24,
   "metadata": {},
   "outputs": [
    {
     "name": "stdout",
     "output_type": "stream",
     "text": [
      "Eopoch :0 | Acc : 0.587 | Loss : 0.667 \n",
      "Eopoch :1 | Acc : 0.596 | Loss : 0.662 \n",
      "Eopoch :2 | Acc : 0.596 | Loss : 0.661 \n",
      "Eopoch :3 | Acc : 0.597 | Loss : 0.661 \n",
      "Eopoch :4 | Acc : 0.597 | Loss : 0.661 \n",
      "Eopoch :5 | Acc : 0.597 | Loss : 0.661 \n",
      "Eopoch :6 | Acc : 0.597 | Loss : 0.661 \n",
      "Eopoch :7 | Acc : 0.597 | Loss : 0.661 \n",
      "Eopoch :8 | Acc : 0.598 | Loss : 0.660 \n",
      "Eopoch :9 | Acc : 0.598 | Loss : 0.660 \n"
     ]
    }
   ],
   "source": [
    "from torch.utils.data import DataLoader\n",
    "\n",
    "labels = torch.ones(train_dataset.tuples.shape[0]).cuda()\n",
    "dataset = BaseDataset(train_dataset.tuples.cuda(), labels)\n",
    "train_loader = DataLoader(dataset=dataset, batch_size=1024, shuffle=False)\n",
    "\n",
    "from pythae.samplers import NormalSampler\n",
    "\n",
    "normal_samper = NormalSampler(model=model)\n",
    "ncp_vae_sampler_normal = train_ncp(normal_samper, train_loader, lr=0.01)"
   ]
  },
  {
   "cell_type": "code",
   "execution_count": 25,
   "metadata": {},
   "outputs": [
    {
     "name": "stderr",
     "output_type": "stream",
     "text": [
      "/home/user1/anaconda3/envs/vdvae/lib/python3.11/site-packages/torchquad/integration/utils.py:255: UserWarning: DEPRECATION WARNING: In future versions of torchquad, an array-like object will be returned.\n",
      "  warnings.warn(\n"
     ]
    },
    {
     "name": "stdout",
     "output_type": "stream",
     "text": [
      "0 queries done\n",
      "100 queries done\n",
      "200 queries done\n",
      "300 queries done\n",
      "400 queries done\n",
      "500 queries done\n",
      "600 queries done\n",
      "700 queries done\n",
      "800 queries done\n",
      "900 queries done\n",
      "1000 queries done\n",
      "1100 queries done\n",
      "1200 queries done\n",
      "1300 queries done\n",
      "1400 queries done\n",
      "1500 queries done\n",
      "1600 queries done\n",
      "1700 queries done\n",
      "1800 queries done\n",
      "1900 queries done\n",
      "2000 queries done\n",
      "2100 queries done\n",
      "2200 queries done\n",
      "2300 queries done\n",
      "2400 queries done\n",
      "2500 queries done\n",
      "2600 queries done\n",
      "2700 queries done\n",
      "2800 queries done\n",
      "2900 queries done\n"
     ]
    }
   ],
   "source": [
    "count, qerrors = eval_power(ncp_vae_sampler_normal)"
   ]
  },
  {
   "cell_type": "code",
   "execution_count": 26,
   "metadata": {},
   "outputs": [
    {
     "name": "stdout",
     "output_type": "stream",
     "text": [
      "estimation failed times: 738\n",
      "test results\n",
      "Median: 6.392244421397002\n",
      "90th percentile: 1903.6204334365323\n",
      "95th percentile: 7473.371843327265\n",
      "99th percentile: 102592.07999999697\n",
      "Max: 1844352.0\n",
      "Mean: 6002.992186513791\n"
     ]
    }
   ],
   "source": [
    "print(f'estimation failed times: {count}')\n",
    "print('test results')\n",
    "print(f\"Median: {np.median(qerrors)}\")\n",
    "print(f\"90th percentile: {np.percentile(qerrors, 90)}\")\n",
    "print(f\"95th percentile: {np.percentile(qerrors, 95)}\")\n",
    "print(f\"99th percentile: {np.percentile(qerrors, 99)}\")\n",
    "print(f\"Max: {np.max(qerrors)}\")\n",
    "print(f\"Mean: {np.mean(qerrors)}\")"
   ]
  }
 ],
 "metadata": {
  "kernelspec": {
   "display_name": "vdvae",
   "language": "python",
   "name": "python3"
  },
  "language_info": {
   "codemirror_mode": {
    "name": "ipython",
    "version": 3
   },
   "file_extension": ".py",
   "mimetype": "text/x-python",
   "name": "python",
   "nbconvert_exporter": "python",
   "pygments_lexer": "ipython3",
   "version": "3.11.5"
  }
 },
 "nbformat": 4,
 "nbformat_minor": 2
}
